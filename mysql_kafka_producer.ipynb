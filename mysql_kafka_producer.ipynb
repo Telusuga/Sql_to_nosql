{
 "cells": [
  {
   "cell_type": "code",
   "execution_count": 2,
   "metadata": {},
   "outputs": [
    {
     "name": "stdout",
     "output_type": "stream",
     "text": [
      "Requirement already satisfied: mysql-connector-python in c:\\users\\javva\\anaconda3\\lib\\site-packages (8.0.33)\n",
      "Requirement already satisfied: protobuf<=3.20.3,>=3.11.0 in c:\\users\\javva\\anaconda3\\lib\\site-packages (from mysql-connector-python) (3.20.3)\n",
      "Requirement already satisfied: pandas in c:\\users\\javva\\anaconda3\\lib\\site-packages (1.5.3)\n",
      "Requirement already satisfied: pytz>=2020.1 in c:\\users\\javva\\anaconda3\\lib\\site-packages (from pandas) (2022.7)\n",
      "Requirement already satisfied: python-dateutil>=2.8.1 in c:\\users\\javva\\anaconda3\\lib\\site-packages (from pandas) (2.8.2)\n",
      "Requirement already satisfied: numpy>=1.21.0 in c:\\users\\javva\\anaconda3\\lib\\site-packages (from pandas) (1.23.5)\n",
      "Requirement already satisfied: six>=1.5 in c:\\users\\javva\\anaconda3\\lib\\site-packages (from python-dateutil>=2.8.1->pandas) (1.16.0)\n",
      "Requirement already satisfied: confluent_kafka in c:\\users\\javva\\anaconda3\\lib\\site-packages (2.1.0)\n"
     ]
    },
    {
     "name": "stderr",
     "output_type": "stream",
     "text": [
      "ERROR: Could not find a version that satisfies the requirement random (from versions: none)\n",
      "ERROR: No matching distribution found for random\n"
     ]
    }
   ],
   "source": [
    "!pip install mysql-connector-python\n",
    "!pip install pandas\n",
    "!pip install confluent_kafka\n"
   ]
  },
  {
   "cell_type": "code",
   "execution_count": 3,
   "metadata": {},
   "outputs": [],
   "source": [
    "import pandas as pd\n",
    "import json\n",
    "import mysql.connector\n",
    "from confluent_kafka import Producer\n",
    "import random"
   ]
  },
  {
   "cell_type": "code",
   "execution_count": 4,
   "metadata": {},
   "outputs": [],
   "source": [
    "mydb=mysql.connector.connect(\n",
    "    host='localhost',\n",
    "    user='root',\n",
    "    password='root'\n",
    ")"
   ]
  },
  {
   "cell_type": "code",
   "execution_count": 5,
   "metadata": {},
   "outputs": [],
   "source": [
    "def login_info():\n",
    "    info={\n",
    "        'bootstrap.servers':'pkc-lzvrd.us-west4.gcp.confluent.cloud:9092',\n",
    "        'security.protocol':'SASL_SSL',\n",
    "        'sasl.mechanism':'PLAIN',\n",
    "        'sasl.username':'P3FP4JOSTVZS2XWF',\n",
    "        'sasl.password':'j4N3yUaVe6y6oRsie5upI3isMePZKRD3C7dozvKSu35DBe12nnIj6XUd9JUIbvZp',\n",
    "        'partitioner':'consistent_random'\n",
    "\n",
    "    }\n",
    "    return info"
   ]
  },
  {
   "cell_type": "code",
   "execution_count": 6,
   "metadata": {},
   "outputs": [],
   "source": [
    "def delivery_status(err,msg):\n",
    "    if err:\n",
    "        print(f'Message failed to deliver due to the following error {str(err)}')\n",
    "    else:\n",
    "        print(f'The Message has been delivered successfully {msg.value()}. Partition-->{msg.partition()} at the Offset--->{msg.offset()}')\n",
    "        print(f'The following messages are pushed to Topic--->{msg.topic()}')"
   ]
  },
  {
   "cell_type": "code",
   "execution_count": 7,
   "metadata": {},
   "outputs": [],
   "source": [
    "cu=mydb.cursor()"
   ]
  },
  {
   "cell_type": "code",
   "execution_count": 8,
   "metadata": {},
   "outputs": [],
   "source": [
    "cu.execute('use world')"
   ]
  },
  {
   "cell_type": "code",
   "execution_count": 9,
   "metadata": {},
   "outputs": [],
   "source": [
    "cu.execute('show tables')"
   ]
  },
  {
   "cell_type": "code",
   "execution_count": 10,
   "metadata": {},
   "outputs": [],
   "source": [
    "res=cu.fetchall()"
   ]
  },
  {
   "cell_type": "code",
   "execution_count": 11,
   "metadata": {},
   "outputs": [
    {
     "name": "stdout",
     "output_type": "stream",
     "text": [
      "('city',)\n",
      "('country',)\n",
      "('countrylanguage',)\n"
     ]
    }
   ],
   "source": [
    "for i in res:\n",
    "    print(i)"
   ]
  },
  {
   "cell_type": "code",
   "execution_count": 12,
   "metadata": {},
   "outputs": [],
   "source": [
    "cu.execute('select * from city limit 15')"
   ]
  },
  {
   "cell_type": "code",
   "execution_count": 13,
   "metadata": {},
   "outputs": [],
   "source": [
    "select=cu.fetchall()"
   ]
  },
  {
   "cell_type": "code",
   "execution_count": 14,
   "metadata": {},
   "outputs": [],
   "source": [
    "col_names=[i[0] for i in cu.description]"
   ]
  },
  {
   "cell_type": "code",
   "execution_count": 15,
   "metadata": {},
   "outputs": [],
   "source": [
    "r=[dict(zip(col_names,j)) for j in select]"
   ]
  },
  {
   "cell_type": "code",
   "execution_count": 16,
   "metadata": {},
   "outputs": [
    {
     "data": {
      "text/plain": [
       "[{'ID': 1,\n",
       "  'Name': 'Kabul',\n",
       "  'CountryCode': 'AFG',\n",
       "  'District': 'Kabol',\n",
       "  'Population': 1780000},\n",
       " {'ID': 2,\n",
       "  'Name': 'Qandahar',\n",
       "  'CountryCode': 'AFG',\n",
       "  'District': 'Qandahar',\n",
       "  'Population': 237500},\n",
       " {'ID': 3,\n",
       "  'Name': 'Herat',\n",
       "  'CountryCode': 'AFG',\n",
       "  'District': 'Herat',\n",
       "  'Population': 186800},\n",
       " {'ID': 4,\n",
       "  'Name': 'Mazar-e-Sharif',\n",
       "  'CountryCode': 'AFG',\n",
       "  'District': 'Balkh',\n",
       "  'Population': 127800},\n",
       " {'ID': 5,\n",
       "  'Name': 'Amsterdam',\n",
       "  'CountryCode': 'NLD',\n",
       "  'District': 'Noord-Holland',\n",
       "  'Population': 731200},\n",
       " {'ID': 6,\n",
       "  'Name': 'Rotterdam',\n",
       "  'CountryCode': 'NLD',\n",
       "  'District': 'Zuid-Holland',\n",
       "  'Population': 593321},\n",
       " {'ID': 7,\n",
       "  'Name': 'Haag',\n",
       "  'CountryCode': 'NLD',\n",
       "  'District': 'Zuid-Holland',\n",
       "  'Population': 440900},\n",
       " {'ID': 8,\n",
       "  'Name': 'Utrecht',\n",
       "  'CountryCode': 'NLD',\n",
       "  'District': 'Utrecht',\n",
       "  'Population': 234323},\n",
       " {'ID': 9,\n",
       "  'Name': 'Eindhoven',\n",
       "  'CountryCode': 'NLD',\n",
       "  'District': 'Noord-Brabant',\n",
       "  'Population': 201843},\n",
       " {'ID': 10,\n",
       "  'Name': 'Tilburg',\n",
       "  'CountryCode': 'NLD',\n",
       "  'District': 'Noord-Brabant',\n",
       "  'Population': 193238},\n",
       " {'ID': 11,\n",
       "  'Name': 'Groningen',\n",
       "  'CountryCode': 'NLD',\n",
       "  'District': 'Groningen',\n",
       "  'Population': 172701},\n",
       " {'ID': 12,\n",
       "  'Name': 'Breda',\n",
       "  'CountryCode': 'NLD',\n",
       "  'District': 'Noord-Brabant',\n",
       "  'Population': 160398},\n",
       " {'ID': 13,\n",
       "  'Name': 'Apeldoorn',\n",
       "  'CountryCode': 'NLD',\n",
       "  'District': 'Gelderland',\n",
       "  'Population': 153491},\n",
       " {'ID': 14,\n",
       "  'Name': 'Nijmegen',\n",
       "  'CountryCode': 'NLD',\n",
       "  'District': 'Gelderland',\n",
       "  'Population': 152463},\n",
       " {'ID': 15,\n",
       "  'Name': 'Enschede',\n",
       "  'CountryCode': 'NLD',\n",
       "  'District': 'Overijssel',\n",
       "  'Population': 149544}]"
      ]
     },
     "execution_count": 16,
     "metadata": {},
     "output_type": "execute_result"
    }
   ],
   "source": [
    "r"
   ]
  },
  {
   "cell_type": "code",
   "execution_count": 17,
   "metadata": {},
   "outputs": [
    {
     "data": {
      "text/html": [
       "<div>\n",
       "<style scoped>\n",
       "    .dataframe tbody tr th:only-of-type {\n",
       "        vertical-align: middle;\n",
       "    }\n",
       "\n",
       "    .dataframe tbody tr th {\n",
       "        vertical-align: top;\n",
       "    }\n",
       "\n",
       "    .dataframe thead th {\n",
       "        text-align: right;\n",
       "    }\n",
       "</style>\n",
       "<table border=\"1\" class=\"dataframe\">\n",
       "  <thead>\n",
       "    <tr style=\"text-align: right;\">\n",
       "      <th></th>\n",
       "      <th>ID</th>\n",
       "      <th>Name</th>\n",
       "      <th>CountryCode</th>\n",
       "      <th>District</th>\n",
       "      <th>Population</th>\n",
       "    </tr>\n",
       "  </thead>\n",
       "  <tbody>\n",
       "    <tr>\n",
       "      <th>0</th>\n",
       "      <td>1</td>\n",
       "      <td>Kabul</td>\n",
       "      <td>AFG</td>\n",
       "      <td>Kabol</td>\n",
       "      <td>1780000</td>\n",
       "    </tr>\n",
       "    <tr>\n",
       "      <th>1</th>\n",
       "      <td>2</td>\n",
       "      <td>Qandahar</td>\n",
       "      <td>AFG</td>\n",
       "      <td>Qandahar</td>\n",
       "      <td>237500</td>\n",
       "    </tr>\n",
       "    <tr>\n",
       "      <th>2</th>\n",
       "      <td>3</td>\n",
       "      <td>Herat</td>\n",
       "      <td>AFG</td>\n",
       "      <td>Herat</td>\n",
       "      <td>186800</td>\n",
       "    </tr>\n",
       "    <tr>\n",
       "      <th>3</th>\n",
       "      <td>4</td>\n",
       "      <td>Mazar-e-Sharif</td>\n",
       "      <td>AFG</td>\n",
       "      <td>Balkh</td>\n",
       "      <td>127800</td>\n",
       "    </tr>\n",
       "    <tr>\n",
       "      <th>4</th>\n",
       "      <td>5</td>\n",
       "      <td>Amsterdam</td>\n",
       "      <td>NLD</td>\n",
       "      <td>Noord-Holland</td>\n",
       "      <td>731200</td>\n",
       "    </tr>\n",
       "    <tr>\n",
       "      <th>5</th>\n",
       "      <td>6</td>\n",
       "      <td>Rotterdam</td>\n",
       "      <td>NLD</td>\n",
       "      <td>Zuid-Holland</td>\n",
       "      <td>593321</td>\n",
       "    </tr>\n",
       "    <tr>\n",
       "      <th>6</th>\n",
       "      <td>7</td>\n",
       "      <td>Haag</td>\n",
       "      <td>NLD</td>\n",
       "      <td>Zuid-Holland</td>\n",
       "      <td>440900</td>\n",
       "    </tr>\n",
       "    <tr>\n",
       "      <th>7</th>\n",
       "      <td>8</td>\n",
       "      <td>Utrecht</td>\n",
       "      <td>NLD</td>\n",
       "      <td>Utrecht</td>\n",
       "      <td>234323</td>\n",
       "    </tr>\n",
       "    <tr>\n",
       "      <th>8</th>\n",
       "      <td>9</td>\n",
       "      <td>Eindhoven</td>\n",
       "      <td>NLD</td>\n",
       "      <td>Noord-Brabant</td>\n",
       "      <td>201843</td>\n",
       "    </tr>\n",
       "    <tr>\n",
       "      <th>9</th>\n",
       "      <td>10</td>\n",
       "      <td>Tilburg</td>\n",
       "      <td>NLD</td>\n",
       "      <td>Noord-Brabant</td>\n",
       "      <td>193238</td>\n",
       "    </tr>\n",
       "    <tr>\n",
       "      <th>10</th>\n",
       "      <td>11</td>\n",
       "      <td>Groningen</td>\n",
       "      <td>NLD</td>\n",
       "      <td>Groningen</td>\n",
       "      <td>172701</td>\n",
       "    </tr>\n",
       "    <tr>\n",
       "      <th>11</th>\n",
       "      <td>12</td>\n",
       "      <td>Breda</td>\n",
       "      <td>NLD</td>\n",
       "      <td>Noord-Brabant</td>\n",
       "      <td>160398</td>\n",
       "    </tr>\n",
       "    <tr>\n",
       "      <th>12</th>\n",
       "      <td>13</td>\n",
       "      <td>Apeldoorn</td>\n",
       "      <td>NLD</td>\n",
       "      <td>Gelderland</td>\n",
       "      <td>153491</td>\n",
       "    </tr>\n",
       "    <tr>\n",
       "      <th>13</th>\n",
       "      <td>14</td>\n",
       "      <td>Nijmegen</td>\n",
       "      <td>NLD</td>\n",
       "      <td>Gelderland</td>\n",
       "      <td>152463</td>\n",
       "    </tr>\n",
       "    <tr>\n",
       "      <th>14</th>\n",
       "      <td>15</td>\n",
       "      <td>Enschede</td>\n",
       "      <td>NLD</td>\n",
       "      <td>Overijssel</td>\n",
       "      <td>149544</td>\n",
       "    </tr>\n",
       "  </tbody>\n",
       "</table>\n",
       "</div>"
      ],
      "text/plain": [
       "    ID            Name CountryCode       District  Population\n",
       "0    1           Kabul         AFG          Kabol     1780000\n",
       "1    2        Qandahar         AFG       Qandahar      237500\n",
       "2    3           Herat         AFG          Herat      186800\n",
       "3    4  Mazar-e-Sharif         AFG          Balkh      127800\n",
       "4    5       Amsterdam         NLD  Noord-Holland      731200\n",
       "5    6       Rotterdam         NLD   Zuid-Holland      593321\n",
       "6    7            Haag         NLD   Zuid-Holland      440900\n",
       "7    8         Utrecht         NLD        Utrecht      234323\n",
       "8    9       Eindhoven         NLD  Noord-Brabant      201843\n",
       "9   10         Tilburg         NLD  Noord-Brabant      193238\n",
       "10  11       Groningen         NLD      Groningen      172701\n",
       "11  12           Breda         NLD  Noord-Brabant      160398\n",
       "12  13       Apeldoorn         NLD     Gelderland      153491\n",
       "13  14        Nijmegen         NLD     Gelderland      152463\n",
       "14  15        Enschede         NLD     Overijssel      149544"
      ]
     },
     "execution_count": 17,
     "metadata": {},
     "output_type": "execute_result"
    }
   ],
   "source": [
    "df=pd.DataFrame(r)\n",
    "df"
   ]
  },
  {
   "cell_type": "code",
   "execution_count": 18,
   "metadata": {},
   "outputs": [
    {
     "data": {
      "text/plain": [
       "'[{\"ID\":1,\"Name\":\"Kabul\",\"CountryCode\":\"AFG\",\"District\":\"Kabol\",\"Population\":1780000},{\"ID\":2,\"Name\":\"Qandahar\",\"CountryCode\":\"AFG\",\"District\":\"Qandahar\",\"Population\":237500},{\"ID\":3,\"Name\":\"Herat\",\"CountryCode\":\"AFG\",\"District\":\"Herat\",\"Population\":186800},{\"ID\":4,\"Name\":\"Mazar-e-Sharif\",\"CountryCode\":\"AFG\",\"District\":\"Balkh\",\"Population\":127800},{\"ID\":5,\"Name\":\"Amsterdam\",\"CountryCode\":\"NLD\",\"District\":\"Noord-Holland\",\"Population\":731200},{\"ID\":6,\"Name\":\"Rotterdam\",\"CountryCode\":\"NLD\",\"District\":\"Zuid-Holland\",\"Population\":593321},{\"ID\":7,\"Name\":\"Haag\",\"CountryCode\":\"NLD\",\"District\":\"Zuid-Holland\",\"Population\":440900},{\"ID\":8,\"Name\":\"Utrecht\",\"CountryCode\":\"NLD\",\"District\":\"Utrecht\",\"Population\":234323},{\"ID\":9,\"Name\":\"Eindhoven\",\"CountryCode\":\"NLD\",\"District\":\"Noord-Brabant\",\"Population\":201843},{\"ID\":10,\"Name\":\"Tilburg\",\"CountryCode\":\"NLD\",\"District\":\"Noord-Brabant\",\"Population\":193238},{\"ID\":11,\"Name\":\"Groningen\",\"CountryCode\":\"NLD\",\"District\":\"Groningen\",\"Population\":172701},{\"ID\":12,\"Name\":\"Breda\",\"CountryCode\":\"NLD\",\"District\":\"Noord-Brabant\",\"Population\":160398},{\"ID\":13,\"Name\":\"Apeldoorn\",\"CountryCode\":\"NLD\",\"District\":\"Gelderland\",\"Population\":153491},{\"ID\":14,\"Name\":\"Nijmegen\",\"CountryCode\":\"NLD\",\"District\":\"Gelderland\",\"Population\":152463},{\"ID\":15,\"Name\":\"Enschede\",\"CountryCode\":\"NLD\",\"District\":\"Overijssel\",\"Population\":149544}]'"
      ]
     },
     "execution_count": 18,
     "metadata": {},
     "output_type": "execute_result"
    }
   ],
   "source": [
    "a=df.to_json(orient='records')\n",
    "a"
   ]
  },
  {
   "cell_type": "code",
   "execution_count": 19,
   "metadata": {},
   "outputs": [
    {
     "data": {
      "text/plain": [
       "[{'ID': 1,\n",
       "  'Name': 'Kabul',\n",
       "  'CountryCode': 'AFG',\n",
       "  'District': 'Kabol',\n",
       "  'Population': 1780000},\n",
       " {'ID': 2,\n",
       "  'Name': 'Qandahar',\n",
       "  'CountryCode': 'AFG',\n",
       "  'District': 'Qandahar',\n",
       "  'Population': 237500},\n",
       " {'ID': 3,\n",
       "  'Name': 'Herat',\n",
       "  'CountryCode': 'AFG',\n",
       "  'District': 'Herat',\n",
       "  'Population': 186800},\n",
       " {'ID': 4,\n",
       "  'Name': 'Mazar-e-Sharif',\n",
       "  'CountryCode': 'AFG',\n",
       "  'District': 'Balkh',\n",
       "  'Population': 127800},\n",
       " {'ID': 5,\n",
       "  'Name': 'Amsterdam',\n",
       "  'CountryCode': 'NLD',\n",
       "  'District': 'Noord-Holland',\n",
       "  'Population': 731200},\n",
       " {'ID': 6,\n",
       "  'Name': 'Rotterdam',\n",
       "  'CountryCode': 'NLD',\n",
       "  'District': 'Zuid-Holland',\n",
       "  'Population': 593321},\n",
       " {'ID': 7,\n",
       "  'Name': 'Haag',\n",
       "  'CountryCode': 'NLD',\n",
       "  'District': 'Zuid-Holland',\n",
       "  'Population': 440900},\n",
       " {'ID': 8,\n",
       "  'Name': 'Utrecht',\n",
       "  'CountryCode': 'NLD',\n",
       "  'District': 'Utrecht',\n",
       "  'Population': 234323},\n",
       " {'ID': 9,\n",
       "  'Name': 'Eindhoven',\n",
       "  'CountryCode': 'NLD',\n",
       "  'District': 'Noord-Brabant',\n",
       "  'Population': 201843},\n",
       " {'ID': 10,\n",
       "  'Name': 'Tilburg',\n",
       "  'CountryCode': 'NLD',\n",
       "  'District': 'Noord-Brabant',\n",
       "  'Population': 193238},\n",
       " {'ID': 11,\n",
       "  'Name': 'Groningen',\n",
       "  'CountryCode': 'NLD',\n",
       "  'District': 'Groningen',\n",
       "  'Population': 172701},\n",
       " {'ID': 12,\n",
       "  'Name': 'Breda',\n",
       "  'CountryCode': 'NLD',\n",
       "  'District': 'Noord-Brabant',\n",
       "  'Population': 160398},\n",
       " {'ID': 13,\n",
       "  'Name': 'Apeldoorn',\n",
       "  'CountryCode': 'NLD',\n",
       "  'District': 'Gelderland',\n",
       "  'Population': 153491},\n",
       " {'ID': 14,\n",
       "  'Name': 'Nijmegen',\n",
       "  'CountryCode': 'NLD',\n",
       "  'District': 'Gelderland',\n",
       "  'Population': 152463},\n",
       " {'ID': 15,\n",
       "  'Name': 'Enschede',\n",
       "  'CountryCode': 'NLD',\n",
       "  'District': 'Overijssel',\n",
       "  'Population': 149544}]"
      ]
     },
     "execution_count": 19,
     "metadata": {},
     "output_type": "execute_result"
    }
   ],
   "source": [
    "b=json.loads(a)\n",
    "b"
   ]
  },
  {
   "cell_type": "code",
   "execution_count": 20,
   "metadata": {},
   "outputs": [],
   "source": [
    "p=Producer(login_info())"
   ]
  },
  {
   "cell_type": "code",
   "execution_count": 21,
   "metadata": {},
   "outputs": [
    {
     "name": "stdout",
     "output_type": "stream",
     "text": [
      "{'topic_1': TopicMetadata(topic_1, 3 partitions), 'test': TopicMetadata(test, 3 partitions)}\n"
     ]
    }
   ],
   "source": [
    "print(p.list_topics().topics)"
   ]
  },
  {
   "cell_type": "code",
   "execution_count": 22,
   "metadata": {},
   "outputs": [
    {
     "name": "stdout",
     "output_type": "stream",
     "text": [
      "The Message has been delivered successfully b\"{'ID': 2, 'Name': 'Qandahar', 'CountryCode': 'AFG', 'District': 'Qandahar', 'Population': 237500}\". Partition-->1 at the Offset--->43\n",
      "The following messages are pushed to Topic--->topic_1\n",
      "The Message has been delivered successfully b\"{'ID': 1, 'Name': 'Kabul', 'CountryCode': 'AFG', 'District': 'Kabol', 'Population': 1780000}\". Partition-->2 at the Offset--->49\n",
      "The following messages are pushed to Topic--->topic_1\n",
      "The Message has been delivered successfully b\"{'ID': 3, 'Name': 'Herat', 'CountryCode': 'AFG', 'District': 'Herat', 'Population': 186800}\". Partition-->2 at the Offset--->50\n",
      "The following messages are pushed to Topic--->topic_1\n",
      "The Message has been delivered successfully b\"{'ID': 4, 'Name': 'Mazar-e-Sharif', 'CountryCode': 'AFG', 'District': 'Balkh', 'Population': 127800}\". Partition-->0 at the Offset--->38\n",
      "The following messages are pushed to Topic--->topic_1\n",
      "The Message has been delivered successfully b\"{'ID': 5, 'Name': 'Amsterdam', 'CountryCode': 'NLD', 'District': 'Noord-Holland', 'Population': 731200}\". Partition-->0 at the Offset--->39\n",
      "The following messages are pushed to Topic--->topic_1\n",
      "The Message has been delivered successfully b\"{'ID': 6, 'Name': 'Rotterdam', 'CountryCode': 'NLD', 'District': 'Zuid-Holland', 'Population': 593321}\". Partition-->0 at the Offset--->40\n",
      "The following messages are pushed to Topic--->topic_1\n",
      "The Message has been delivered successfully b\"{'ID': 7, 'Name': 'Haag', 'CountryCode': 'NLD', 'District': 'Zuid-Holland', 'Population': 440900}\". Partition-->2 at the Offset--->51\n",
      "The following messages are pushed to Topic--->topic_1\n",
      "The Message has been delivered successfully b\"{'ID': 8, 'Name': 'Utrecht', 'CountryCode': 'NLD', 'District': 'Utrecht', 'Population': 234323}\". Partition-->1 at the Offset--->44\n",
      "The following messages are pushed to Topic--->topic_1\n",
      "The Message has been delivered successfully b\"{'ID': 9, 'Name': 'Eindhoven', 'CountryCode': 'NLD', 'District': 'Noord-Brabant', 'Population': 201843}\". Partition-->2 at the Offset--->52\n",
      "The following messages are pushed to Topic--->topic_1\n",
      "The Message has been delivered successfully b\"{'ID': 10, 'Name': 'Tilburg', 'CountryCode': 'NLD', 'District': 'Noord-Brabant', 'Population': 193238}\". Partition-->0 at the Offset--->41\n",
      "The following messages are pushed to Topic--->topic_1\n",
      "The Message has been delivered successfully b\"{'ID': 11, 'Name': 'Groningen', 'CountryCode': 'NLD', 'District': 'Groningen', 'Population': 172701}\". Partition-->2 at the Offset--->53\n",
      "The following messages are pushed to Topic--->topic_1\n",
      "The Message has been delivered successfully b\"{'ID': 12, 'Name': 'Breda', 'CountryCode': 'NLD', 'District': 'Noord-Brabant', 'Population': 160398}\". Partition-->0 at the Offset--->42\n",
      "The following messages are pushed to Topic--->topic_1\n",
      "The Message has been delivered successfully b\"{'ID': 13, 'Name': 'Apeldoorn', 'CountryCode': 'NLD', 'District': 'Gelderland', 'Population': 153491}\". Partition-->1 at the Offset--->45\n",
      "The following messages are pushed to Topic--->topic_1\n",
      "The Message has been delivered successfully b\"{'ID': 14, 'Name': 'Nijmegen', 'CountryCode': 'NLD', 'District': 'Gelderland', 'Population': 152463}\". Partition-->2 at the Offset--->54\n",
      "The following messages are pushed to Topic--->topic_1\n",
      "Flushing records\n",
      "The Message has been delivered successfully b\"{'ID': 15, 'Name': 'Enschede', 'CountryCode': 'NLD', 'District': 'Overijssel', 'Population': 149544}\". Partition-->0 at the Offset--->43\n",
      "The following messages are pushed to Topic--->topic_1\n"
     ]
    },
    {
     "data": {
      "text/plain": [
       "0"
      ]
     },
     "execution_count": 22,
     "metadata": {},
     "output_type": "execute_result"
    }
   ],
   "source": [
    "try:\n",
    "    for j in range(0,len(b)):\n",
    "        msg=b[j]\n",
    "        p.poll(1.0)\n",
    "        p.produce(topic='topic_1',value=str(msg).encode('utf-8'),on_delivery=delivery_status)\n",
    "except er as Exception:\n",
    "    print('The following error was failed due to the error-->',er)\n",
    "print('Flushing records')\n",
    "\n",
    "p.flush()"
   ]
  }
 ],
 "metadata": {
  "kernelspec": {
   "display_name": "base",
   "language": "python",
   "name": "python3"
  },
  "language_info": {
   "codemirror_mode": {
    "name": "ipython",
    "version": 3
   },
   "file_extension": ".py",
   "mimetype": "text/x-python",
   "name": "python",
   "nbconvert_exporter": "python",
   "pygments_lexer": "ipython3",
   "version": "3.10.9"
  },
  "orig_nbformat": 4
 },
 "nbformat": 4,
 "nbformat_minor": 2
}
