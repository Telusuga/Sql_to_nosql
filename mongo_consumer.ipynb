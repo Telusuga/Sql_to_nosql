{
 "cells": [
  {
   "cell_type": "code",
   "execution_count": 1,
   "metadata": {},
   "outputs": [
    {
     "name": "stdout",
     "output_type": "stream",
     "text": [
      "Requirement already satisfied: confluent_kafka in c:\\users\\javva\\anaconda3\\lib\\site-packages (2.1.0)\n",
      "Requirement already satisfied: pymongo in c:\\users\\javva\\anaconda3\\lib\\site-packages (4.3.3)\n",
      "Requirement already satisfied: dnspython<3.0.0,>=1.16.0 in c:\\users\\javva\\anaconda3\\lib\\site-packages (from pymongo) (2.3.0)\n"
     ]
    }
   ],
   "source": [
    "!pip install confluent_kafka\n",
    "!pip install pymongo"
   ]
  },
  {
   "cell_type": "code",
   "execution_count": 2,
   "metadata": {},
   "outputs": [],
   "source": [
    "from confluent_kafka import Consumer\n",
    "import pymongo"
   ]
  },
  {
   "cell_type": "code",
   "execution_count": 15,
   "metadata": {},
   "outputs": [],
   "source": [
    "def login_info():\n",
    "    info={\n",
    "        'bootstrap.servers':'xxxxxxxxxxxxxxxxxxxxxxxxxxx',\n",
    "        'security.protocol':'SASL_SSL',\n",
    "        'sasl.mechanism':'PLAIN',\n",
    "        'sasl.username':'xxxxxxxxxxxxxxxxx',\n",
    "        'sasl.password':'xxxxxxxxxxxxxxxxxxxxxxxxxxx',\n",
    "        'partitioner':'consistent_random',\n",
    "        'group.id':'testing',\n",
    "        'auto.offset.reset':'earliest'\n",
    "\n",
    "    }\n",
    "    return info"
   ]
  },
  {
   "cell_type": "code",
   "execution_count": 16,
   "metadata": {},
   "outputs": [],
   "source": [
    "c=Consumer(login_info())"
   ]
  },
  {
   "cell_type": "code",
   "execution_count": 17,
   "metadata": {},
   "outputs": [
    {
     "name": "stdout",
     "output_type": "stream",
     "text": [
      "{'topic_1': TopicMetadata(topic_1, 3 partitions), 'test': TopicMetadata(test, 3 partitions)}\n"
     ]
    }
   ],
   "source": [
    "print(c.list_topics().topics)\n",
    "d=c.list_topics().topics"
   ]
  },
  {
   "cell_type": "code",
   "execution_count": 18,
   "metadata": {},
   "outputs": [],
   "source": [
    "topic='topic_1'\n",
    "c.subscribe([topic])"
   ]
  },
  {
   "cell_type": "code",
   "execution_count": 4,
   "metadata": {},
   "outputs": [],
   "source": [
    "client=pymongo.MongoClient('xxxxxxxxxxxxxxxxxxxxxxx')"
   ]
  },
  {
   "cell_type": "code",
   "execution_count": 5,
   "metadata": {},
   "outputs": [],
   "source": [
    "Database='Realtime'\n",
    "collection='sql_to_nosql'"
   ]
  },
  {
   "cell_type": "code",
   "execution_count": 7,
   "metadata": {},
   "outputs": [],
   "source": [
    "db=client[Database]\n",
    "col=db[collection]"
   ]
  },
  {
   "attachments": {},
   "cell_type": "markdown",
   "metadata": {},
   "source": [
    "Above are the connectivity part in which made connectivity to Kafka server and subscribed to topic:topic_1 and made MongoDB connection, connected to 'Realtime' Database 'sql_to_nosql' collection"
   ]
  },
  {
   "attachments": {},
   "cell_type": "markdown",
   "metadata": {},
   "source": [
    "Below we are pulling the records from kafka topic inserting it into sql_to_nosql collection to test collection which will not load duplicates"
   ]
  },
  {
   "cell_type": "code",
   "execution_count": 19,
   "metadata": {},
   "outputs": [
    {
     "name": "stdout",
     "output_type": "stream",
     "text": [
      "<class 'str'>\n",
      "The following messages are fb\"{'ID': 4, 'Name': 'Mazar-e-Sharif', 'CountryCode': 'AFG', 'District': 'Balkh', 'Population': 127800}\" which was delivered\n",
      "<class 'str'>\n",
      "The following messages are fb\"{'ID': 5, 'Name': 'Amsterdam', 'CountryCode': 'NLD', 'District': 'Noord-Holland', 'Population': 731200}\" which was delivered\n",
      "<class 'str'>\n",
      "The following messages are fb\"{'ID': 6, 'Name': 'Rotterdam', 'CountryCode': 'NLD', 'District': 'Zuid-Holland', 'Population': 593321}\" which was delivered\n",
      "<class 'str'>\n",
      "The following messages are fb\"{'ID': 10, 'Name': 'Tilburg', 'CountryCode': 'NLD', 'District': 'Noord-Brabant', 'Population': 193238}\" which was delivered\n",
      "<class 'str'>\n",
      "The following messages are fb\"{'ID': 12, 'Name': 'Breda', 'CountryCode': 'NLD', 'District': 'Noord-Brabant', 'Population': 160398}\" which was delivered\n",
      "<class 'str'>\n",
      "The following messages are fb\"{'ID': 15, 'Name': 'Enschede', 'CountryCode': 'NLD', 'District': 'Overijssel', 'Population': 149544}\" which was delivered\n",
      "<class 'str'>\n",
      "The following messages are fb\"{'ID': 1, 'Name': 'Kabul', 'CountryCode': 'AFG', 'District': 'Kabol', 'Population': 1780000}\" which was delivered\n",
      "<class 'str'>\n",
      "The following messages are fb\"{'ID': 3, 'Name': 'Herat', 'CountryCode': 'AFG', 'District': 'Herat', 'Population': 186800}\" which was delivered\n",
      "<class 'str'>\n",
      "The following messages are fb\"{'ID': 7, 'Name': 'Haag', 'CountryCode': 'NLD', 'District': 'Zuid-Holland', 'Population': 440900}\" which was delivered\n",
      "<class 'str'>\n",
      "The following messages are fb\"{'ID': 9, 'Name': 'Eindhoven', 'CountryCode': 'NLD', 'District': 'Noord-Brabant', 'Population': 201843}\" which was delivered\n",
      "<class 'str'>\n",
      "The following messages are fb\"{'ID': 11, 'Name': 'Groningen', 'CountryCode': 'NLD', 'District': 'Groningen', 'Population': 172701}\" which was delivered\n",
      "<class 'str'>\n",
      "The following messages are fb\"{'ID': 14, 'Name': 'Nijmegen', 'CountryCode': 'NLD', 'District': 'Gelderland', 'Population': 152463}\" which was delivered\n",
      "<class 'str'>\n",
      "The following messages are fb\"{'ID': 2, 'Name': 'Qandahar', 'CountryCode': 'AFG', 'District': 'Qandahar', 'Population': 237500}\" which was delivered\n",
      "<class 'str'>\n",
      "The following messages are fb\"{'ID': 8, 'Name': 'Utrecht', 'CountryCode': 'NLD', 'District': 'Utrecht', 'Population': 234323}\" which was delivered\n",
      "<class 'str'>\n",
      "The following messages are fb\"{'ID': 13, 'Name': 'Apeldoorn', 'CountryCode': 'NLD', 'District': 'Gelderland', 'Population': 153491}\" which was delivered\n",
      "wainting for messages!!\n",
      "wainting for messages!!\n",
      "wainting for messages!!\n",
      "wainting for messages!!\n",
      "wainting for messages!!\n",
      "wainting for messages!!\n",
      "closing the consumer code\n"
     ]
    }
   ],
   "source": [
    "while True:\n",
    "    try:\n",
    "        msg=c.poll(5.0)\n",
    "        \n",
    "        if msg is None:\n",
    "            print('wainting for messages!!')\n",
    "            continue\n",
    "        elif msg is not None:\n",
    "            msg_value=msg.value().decode('utf-8')\n",
    "            #print(msg_value)\n",
    "            print(type(msg_value))\n",
    "            y=eval(msg_value)\n",
    "            t=col.insert_one(y)\n",
    "            print(f'The following messages are f{msg.value()} which was delivered')\n",
    "            \n",
    "    except KeyboardInterrupt:\n",
    "        print('closing the consumer code')\n",
    "        break\n",
    "\n",
    "agg=col.aggregate(\n",
    "    [\n",
    "        {\n",
    "            '$group':\n",
    "            {\n",
    "                '_id':{'ID':'$ID','Name':'$Name','CountryCode':'$CountryCode','District':'$District','Population':'$Population'},\n",
    "                \n",
    "            }\n",
    "        },\n",
    "        {\n",
    "            '$out':'test'\n",
    "        }\n",
    "    ]\n",
    ")\n",
    "c.close()"
   ]
  }
 ],
 "metadata": {
  "kernelspec": {
   "display_name": "base",
   "language": "python",
   "name": "python3"
  },
  "language_info": {
   "codemirror_mode": {
    "name": "ipython",
    "version": 3
   },
   "file_extension": ".py",
   "mimetype": "text/x-python",
   "name": "python",
   "nbconvert_exporter": "python",
   "pygments_lexer": "ipython3",
   "version": "3.10.9"
  },
  "orig_nbformat": 4
 },
 "nbformat": 4,
 "nbformat_minor": 2
}
